{
 "cells": [
  {
   "cell_type": "code",
   "execution_count": 10,
   "metadata": {},
   "outputs": [],
   "source": [
    "from yaml_util import load_yaml"
   ]
  },
  {
   "cell_type": "code",
   "execution_count": 6,
   "metadata": {},
   "outputs": [],
   "source": [
    "%reload_ext autoreload\n",
    "%autoreload 2"
   ]
  },
  {
   "cell_type": "code",
   "execution_count": 11,
   "metadata": {},
   "outputs": [],
   "source": [
    "file = load_yaml('/lus/h2resw01/hpcperm/ccpd/ecearth4/jobs/ab00/user-config.yml')"
   ]
  },
  {
   "cell_type": "code",
   "execution_count": 13,
   "metadata": {},
   "outputs": [
    {
     "data": {
      "text/plain": [
       "{'base.context': {'experiment': {'run_dir': TaggedScalar(value='/ec/res4/scratch/ccpd/ece4/{{experiment.id}}', style='\"', tag=Tag('!noparse')), 'base_dir': TaggedScalar(value='/ec/res4/hpcperm/ccpd/ecearth4/revisions/epochal', style='\"', tag=Tag('!noparse')), 'src_dir': TaggedScalar(value='{{experiment.base_dir}}/sources', style='\"', tag=Tag('!noparse')), 'ini_dir': TaggedScalar(value='/ec/res4/hpcperm/ccpd/ECE4-DATA', style='\"', tag=Tag('!noparse')), 'monitoring': {'redmine_api_key': 'REDMINE_API_KEY'}}}}"
      ]
     },
     "execution_count": 13,
     "metadata": {},
     "output_type": "execute_result"
    }
   ],
   "source": [
    "file"
   ]
  },
  {
   "cell_type": "code",
   "execution_count": null,
   "metadata": {},
   "outputs": [],
   "source": []
  }
 ],
 "metadata": {
  "kernelspec": {
   "display_name": "Python 3",
   "language": "python",
   "name": "python3"
  },
  "language_info": {
   "codemirror_mode": {
    "name": "ipython",
    "version": 3
   },
   "file_extension": ".py",
   "mimetype": "text/x-python",
   "name": "python",
   "nbconvert_exporter": "python",
   "pygments_lexer": "ipython3",
   "version": "3.11.8"
  }
 },
 "nbformat": 4,
 "nbformat_minor": 2
}
