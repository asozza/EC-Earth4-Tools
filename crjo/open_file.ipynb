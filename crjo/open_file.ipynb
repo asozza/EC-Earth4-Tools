{
 "cells": [
  {
   "cell_type": "code",
   "execution_count": 33,
   "metadata": {},
   "outputs": [],
   "source": [
    "from yaml_util import modify_rundir, load_yaml, save_yaml"
   ]
  },
  {
   "cell_type": "code",
   "execution_count": 34,
   "metadata": {},
   "outputs": [],
   "source": [
    "%reload_ext autoreload\n",
    "%autoreload 2"
   ]
  },
  {
   "cell_type": "code",
   "execution_count": 35,
   "metadata": {},
   "outputs": [],
   "source": [
    "path = '/lus/h2resw01/hpcperm/ccpd/ecearth4/jobs/ab00/user-config.yml'"
   ]
  },
  {
   "cell_type": "code",
   "execution_count": 36,
   "metadata": {},
   "outputs": [],
   "source": [
    "file = modify_rundir(run_dir='test/path', path=path)"
   ]
  },
  {
   "cell_type": "code",
   "execution_count": 37,
   "metadata": {},
   "outputs": [
    {
     "data": {
      "text/plain": [
       "{'base.context': {'experiment': {'run_dir': TaggedScalar(value='test/path', style='\"', tag=Tag('!noparse')), 'base_dir': TaggedScalar(value='/ec/res4/hpcperm/ccpd/ecearth4/revisions/epochal', style='\"', tag=Tag('!noparse')), 'src_dir': TaggedScalar(value='{{experiment.base_dir}}/sources', style='\"', tag=Tag('!noparse')), 'ini_dir': TaggedScalar(value='/ec/res4/hpcperm/ccpd/ECE4-DATA', style='\"', tag=Tag('!noparse')), 'monitoring': {'redmine_api_key': 'REDMINE_API_KEY'}}}}"
      ]
     },
     "execution_count": 37,
     "metadata": {},
     "output_type": "execute_result"
    }
   ],
   "source": [
    "file"
   ]
  },
  {
   "cell_type": "code",
   "execution_count": 43,
   "metadata": {},
   "outputs": [],
   "source": [
    "# Save new file here\n",
    "save_yaml(path=\"test.yml\", cfg=file)"
   ]
  },
  {
   "cell_type": "code",
   "execution_count": 44,
   "metadata": {},
   "outputs": [
    {
     "data": {
      "text/plain": [
       "{'base.context': {'experiment': {'run_dir': TaggedScalar(value='test/path', style='\"', tag=Tag('!noparse')), 'base_dir': TaggedScalar(value='/ec/res4/hpcperm/ccpd/ecearth4/revisions/epochal', style='\"', tag=Tag('!noparse')), 'src_dir': TaggedScalar(value='{{experiment.base_dir}}/sources', style='\"', tag=Tag('!noparse')), 'ini_dir': TaggedScalar(value='/ec/res4/hpcperm/ccpd/ECE4-DATA', style='\"', tag=Tag('!noparse')), 'monitoring': {'redmine_api_key': 'REDMINE_API_KEY'}}}}"
      ]
     },
     "execution_count": 44,
     "metadata": {},
     "output_type": "execute_result"
    }
   ],
   "source": [
    "load_yaml(\"test.yml\")"
   ]
  },
  {
   "cell_type": "code",
   "execution_count": null,
   "metadata": {},
   "outputs": [],
   "source": []
  }
 ],
 "metadata": {
  "kernelspec": {
   "display_name": "Python 3",
   "language": "python",
   "name": "python3"
  },
  "language_info": {
   "codemirror_mode": {
    "name": "ipython",
    "version": 3
   },
   "file_extension": ".py",
   "mimetype": "text/x-python",
   "name": "python",
   "nbconvert_exporter": "python",
   "pygments_lexer": "ipython3",
   "version": "3.11.8"
  }
 },
 "nbformat": 4,
 "nbformat_minor": 2
}
