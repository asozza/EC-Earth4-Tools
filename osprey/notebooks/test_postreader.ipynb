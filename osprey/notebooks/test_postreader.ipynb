{
 "cells": [
  {
   "cell_type": "code",
   "execution_count": 1,
   "metadata": {},
   "outputs": [],
   "source": [
    "import xarray as xr\n",
    "import cftime"
   ]
  },
  {
   "cell_type": "code",
   "execution_count": 2,
   "metadata": {},
   "outputs": [],
   "source": [
    "from osprey.actions.postreader import postreader_nemo"
   ]
  },
  {
   "cell_type": "code",
   "execution_count": null,
   "metadata": {},
   "outputs": [],
   "source": [
    "# CAREFUL! \n",
    "# opening a file ***.nc with xrarray, it remains opened until you close it, e.g. using ds.close() "
   ]
  },
  {
   "cell_type": "code",
   "execution_count": 6,
   "metadata": {},
   "outputs": [
    {
     "name": "stderr",
     "output_type": "stream",
     "text": [
      "2024-11-22 16:11:40,771 - INFO - Averaged data to be replaced. Creating new file ...\n",
      "2024-11-22 16:11:40,774 - INFO - Data available in the range 2020-2030.\n"
     ]
    },
    {
     "name": "stderr",
     "output_type": "stream",
     "text": [
      "2024-11-22 16:11:47,751 - INFO - File to be loaded /ec/res4/scratch/itas/ece4/lfr0/post/thetao_lfr0_2020-2030_timeseries_seasonally_base.nc\n"
     ]
    }
   ],
   "source": [
    "data = postreader_nemo(expname='lfr0', startyear=2020, endyear=2030, varlabel='thetao', diagname='timeseries', format='seasonally', replace=True, metric='base')"
   ]
  },
  {
   "cell_type": "code",
   "execution_count": null,
   "metadata": {},
   "outputs": [],
   "source": [
    "data = postreader_nemo(expname='lfr0', startyear=2020, endyear=2030, varlabel='thetao', diagname='timeseries', replace=False, metric='base')"
   ]
  },
  {
   "cell_type": "code",
   "execution_count": 3,
   "metadata": {},
   "outputs": [
    {
     "name": "stderr",
     "output_type": "stream",
     "text": [
      "2024-11-22 11:47:48,439 - INFO - Averaged data to be replaced. Creating new file ...\n"
     ]
    },
    {
     "name": "stderr",
     "output_type": "stream",
     "text": [
      "2024-11-22 11:47:48,484 - INFO - Data available in the range 2020-2030.\n",
      "2024-11-22 11:47:57,137 - INFO - File to be saved at /ec/res4/scratch/itas/ece4/lfr0/post/thetao_lfr0_2020-2030_series_p.nc\n",
      "2024-11-22 11:48:09,035 - INFO - Averaged reference data not found or replace is True. Creating new file ...\n",
      "2024-11-22 11:48:09,100 - INFO - Data available in the range 2340-2349.\n",
      "2024-11-22 11:48:13,190 - INFO - File to be saved at /ec/res4/scratch/itas/ece4/lgr3/post/thetao_lgr3_2340-2349_series_g.nc\n",
      "2024-11-22 11:48:20,467 - INFO - File to be saved at /ec/res4/scratch/itas/ece4/lfr0/post/thetao_lfr0_2020-2030_series_p_D_lgr3_2340-2349_series_g.nc\n",
      "2024-11-22 11:48:22,716 - INFO - File to be loaded /ec/res4/scratch/itas/ece4/lfr0/post/thetao_lfr0_2020-2030_series_p_D_lgr3_2340-2349_series_g.nc\n"
     ]
    }
   ],
   "source": [
    "refinfo = {'expname': 'lgr3', 'startyear': 2340, 'endyear': 2349, 'diagname': 'timeseries', 'format': 'global'}\n",
    "data = postreader_nemo(expname='lfr0', startyear=2020, endyear=2030, varlabel='thetao', diagname='timeseries', replace=True, metric='diff', refinfo=refinfo)"
   ]
  },
  {
   "cell_type": "code",
   "execution_count": null,
   "metadata": {},
   "outputs": [],
   "source": [
    "refinfo = {'expname': 'lgr3', 'startyear': 2340, 'endyear': 2349, 'diagname': 'timeseries', 'format': 'monthly'}\n",
    "data = postreader_nemo(expname='lfr0', startyear=1990, endyear=2010, varlabel='thetao', diagname='timeseries', replace=True, metric='diff', refinfo=refinfo)"
   ]
  }
 ],
 "metadata": {
  "kernelspec": {
   "display_name": "Python 3",
   "language": "python",
   "name": "python3"
  },
  "language_info": {
   "codemirror_mode": {
    "name": "ipython",
    "version": 3
   },
   "file_extension": ".py",
   "mimetype": "text/x-python",
   "name": "python",
   "nbconvert_exporter": "python",
   "pygments_lexer": "ipython3",
   "version": "3.11.10"
  }
 },
 "nbformat": 4,
 "nbformat_minor": 2
}
