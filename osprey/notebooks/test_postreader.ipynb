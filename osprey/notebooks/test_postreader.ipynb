{
 "cells": [
  {
   "cell_type": "code",
   "execution_count": 1,
   "metadata": {},
   "outputs": [],
   "source": [
    "import xarray as xr"
   ]
  },
  {
   "cell_type": "code",
   "execution_count": 2,
   "metadata": {},
   "outputs": [],
   "source": [
    "from osprey.actions.postreader import postreader_nemo"
   ]
  },
  {
   "cell_type": "code",
   "execution_count": null,
   "metadata": {},
   "outputs": [],
   "source": [
    "# CAREFUL! \n",
    "# opening a file ***.nc with xrarray, it remains opened until you close it, e.g. using ds.close() "
   ]
  },
  {
   "cell_type": "code",
   "execution_count": 3,
   "metadata": {},
   "outputs": [
    {
     "name": "stderr",
     "output_type": "stream",
     "text": [
      "2024-11-24 14:47:38,691 - INFO - Averaged data to be replaced. Creating new file ...\n"
     ]
    },
    {
     "name": "stderr",
     "output_type": "stream",
     "text": [
      "2024-11-24 14:47:38,942 - INFO - Data available in the range 2040-2050.\n",
      "2024-11-24 14:47:53,075 - INFO - File to be loaded /ec/res4/scratch/itas/ece4/lfr0/post/thetao_lfr0_2040-2050_timeseries_plain_base.nc\n"
     ]
    }
   ],
   "source": [
    "data = postreader_nemo(expname='lfr0', startyear=2040, endyear=2050, varlabel='thetao', diagname='timeseries', format='plain', replace=True, metric='base')"
   ]
  },
  {
   "cell_type": "code",
   "execution_count": 4,
   "metadata": {},
   "outputs": [
    {
     "name": "stderr",
     "output_type": "stream",
     "text": [
      "2024-11-24 14:48:09,504 - INFO - Averaged data to be replaced. Creating new file ...\n",
      "2024-11-24 14:48:09,505 - INFO - Data available in the range 2040-2050.\n",
      "2024-11-24 14:48:10,316 - INFO - File to be loaded /ec/res4/scratch/itas/ece4/lfr0/post/thetao_lfr0_2040-2050_timeseries_monthly_base.nc\n"
     ]
    }
   ],
   "source": [
    "data = postreader_nemo(expname='lfr0', startyear=2040, endyear=2050, varlabel='thetao', diagname='timeseries', format='monthly', replace=True, metric='base')"
   ]
  },
  {
   "cell_type": "code",
   "execution_count": 5,
   "metadata": {},
   "outputs": [
    {
     "name": "stderr",
     "output_type": "stream",
     "text": [
      "2024-11-24 14:48:21,577 - INFO - Averaged data to be replaced. Creating new file ...\n",
      "2024-11-24 14:48:21,578 - INFO - Data available in the range 2040-2050.\n",
      "2024-11-24 14:48:22,231 - INFO - File to be loaded /ec/res4/scratch/itas/ece4/lfr0/post/thetao_lfr0_2040-2050_timeseries_yearly_base.nc\n"
     ]
    }
   ],
   "source": [
    "data = postreader_nemo(expname='lfr0', startyear=2040, endyear=2050, varlabel='thetao', diagname='timeseries', format='yearly', replace=True, metric='base')"
   ]
  },
  {
   "cell_type": "code",
   "execution_count": 3,
   "metadata": {},
   "outputs": [
    {
     "name": "stderr",
     "output_type": "stream",
     "text": [
      "2024-11-24 16:50:30,912 - INFO - Averaged data to be replaced. Creating new file ...\n",
      "2024-11-24 16:50:31,074 - INFO - Data available in the range 2020-2030.\n",
      "2024-11-24 16:50:42,303 - INFO - File to be loaded /ec/res4/scratch/itas/ece4/lfr0/post/thetao_lfr0_2020-2030_timeseries_plain_base.nc\n",
      "2024-11-24 16:50:48,622 - INFO - Averaged reference data to be replaced. Creating new file ...\n",
      "2024-11-24 16:50:48,793 - INFO - Data available in the range 2340-2349.\n",
      "2024-11-24 16:50:50,268 - INFO - File to be loaded /ec/res4/scratch/itas/ece4/lgr3/post/thetao_lgr3_2340-2349_timeseries_global_base.nc\n",
      "2024-11-24 16:50:54,175 - INFO - File to be loaded /ec/res4/scratch/itas/ece4/lfr0/post/thetao_lfr0_2020-2030_timeseries_plain_diff_lgr3_2340-2349_timeseries_global.nc\n",
      "2024-11-24 16:50:55,079 - INFO - File to be loaded /ec/res4/scratch/itas/ece4/lfr0/post/thetao_lfr0_2020-2030_timeseries_plain_diff_lgr3_2340-2349_timeseries_global.nc\n"
     ]
    }
   ],
   "source": [
    "refinfo = {'expname': 'lgr3', 'startyear': 2340, 'endyear': 2349, 'diagname': 'timeseries', 'format': 'global'}\n",
    "data = postreader_nemo(expname='lfr0', startyear=2020, endyear=2030, varlabel='thetao', diagname='timeseries', replace=True, metric='diff', refinfo=refinfo)"
   ]
  },
  {
   "cell_type": "code",
   "execution_count": 3,
   "metadata": {},
   "outputs": [
    {
     "name": "stderr",
     "output_type": "stream",
     "text": [
      "2024-11-24 17:01:41,607 - INFO - Averaged data to be replaced. Creating new file ...\n",
      "2024-11-24 17:01:41,609 - INFO - Data available in the range 1990-2010.\n",
      "2024-11-24 17:01:45,526 - INFO - File to be loaded /ec/res4/scratch/itas/ece4/lfr0/post/thetao_lfr0_1990-2010_timeseries_plain_base.nc\n",
      "2024-11-24 17:01:50,072 - INFO - Averaged reference data to be replaced. Creating new file ...\n",
      "2024-11-24 17:01:50,074 - INFO - Data available in the range 2340-2349.\n",
      "2024-11-24 17:01:51,084 - INFO - File to be loaded /ec/res4/scratch/itas/ece4/lgr3/post/thetao_lgr3_2340-2349_timeseries_monthly_base.nc\n",
      "2024-11-24 17:01:54,786 - INFO - File to be loaded /ec/res4/scratch/itas/ece4/lfr0/post/thetao_lfr0_1990-2010_timeseries_plain_diff_lgr3_2340-2349_timeseries_monthly.nc\n",
      "2024-11-24 17:01:55,896 - INFO - File to be loaded /ec/res4/scratch/itas/ece4/lfr0/post/thetao_lfr0_1990-2010_timeseries_plain_diff_lgr3_2340-2349_timeseries_monthly.nc\n"
     ]
    }
   ],
   "source": [
    "refinfo = {'expname': 'lgr3', 'startyear': 2340, 'endyear': 2349, 'diagname': 'timeseries', 'format': 'monthly'}\n",
    "data = postreader_nemo(expname='lfr0', startyear=1990, endyear=2010, varlabel='thetao', diagname='timeseries', replace=True, metric='diff', refinfo=refinfo)"
   ]
  },
  {
   "cell_type": "code",
   "execution_count": 3,
   "metadata": {},
   "outputs": [
    {
     "name": "stderr",
     "output_type": "stream",
     "text": [
      "2024-11-24 17:08:31,904 - INFO - Averaged data to be replaced. Creating new file ...\n",
      "2024-11-24 17:08:31,906 - INFO - Data available in the range 1990-2010.\n",
      "2024-11-24 17:08:33,324 - INFO - File to be loaded /ec/res4/scratch/itas/ece4/lfr0/post/thetao_lfr0_1990-2010_timeseries_plain_base.nc\n",
      "2024-11-24 17:08:34,249 - INFO - Averaged reference data to be replaced. Creating new file ...\n",
      "2024-11-24 17:08:34,250 - INFO - Data available in the range 1990-2010.\n",
      "2024-11-24 17:08:35,289 - INFO - File to be loaded /ec/res4/scratch/itas/ece4/lfr0/post/thetao_lfr0_1990-2010_timeseries_yearly_base.nc\n",
      "2024-11-24 17:08:37,083 - INFO - File to be loaded /ec/res4/scratch/itas/ece4/lfr0/post/thetao_lfr0_1990-2010_timeseries_plain_diff_lfr0_1990-2010_timeseries_yearly.nc\n",
      "2024-11-24 17:08:37,897 - INFO - File to be loaded /ec/res4/scratch/itas/ece4/lfr0/post/thetao_lfr0_1990-2010_timeseries_plain_diff_lfr0_1990-2010_timeseries_yearly.nc\n"
     ]
    }
   ],
   "source": [
    "refinfo = {'expname': 'lfr0', 'startyear': 1990, 'endyear': 2010, 'diagname': 'timeseries', 'format': 'yearly'}\n",
    "data = postreader_nemo(expname='lfr0', startyear=1990, endyear=2010, varlabel='thetao', diagname='timeseries', replace=True, metric='diff', refinfo=refinfo)"
   ]
  }
 ],
 "metadata": {
  "kernelspec": {
   "display_name": "Python 3",
   "language": "python",
   "name": "python3"
  },
  "language_info": {
   "codemirror_mode": {
    "name": "ipython",
    "version": 3
   },
   "file_extension": ".py",
   "mimetype": "text/x-python",
   "name": "python",
   "nbconvert_exporter": "python",
   "pygments_lexer": "ipython3",
   "version": "3.11.10"
  }
 },
 "nbformat": 4,
 "nbformat_minor": 2
}
