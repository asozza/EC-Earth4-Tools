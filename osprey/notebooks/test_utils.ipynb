{
 "cells": [
  {
   "cell_type": "code",
   "execution_count": 1,
   "metadata": {},
   "outputs": [],
   "source": [
    "import os\n",
    "import numpy as np\n",
    "import xarray as xr\n",
    "from osprey.utils.utils import run_bash_command\n",
    "from osprey.utils.run_cdo import merge, selname"
   ]
  },
  {
   "cell_type": "code",
   "execution_count": 2,
   "metadata": {},
   "outputs": [
    {
     "name": "stderr",
     "output_type": "stream",
     "text": [
      "2024-09-05 14:46:28,434 - INFO - Command executed: account\n",
      "2024-09-05 14:46:28,435 - INFO - Command stdout: spitdav2\n",
      "2024-09-05 14:46:28,435 - WARNING - Command stderr: /bin/sh: which: line 1: syntax error: unexpected end of file\n",
      "/bin/sh: error importing function definition for `which'\n",
      "/bin/sh: module: line 1: syntax error: unexpected end of file\n",
      "/bin/sh: error importing function definition for `module'\n",
      "/bin/sh: ml: line 1: syntax error: unexpected end of file\n",
      "/bin/sh: error importing function definition for `ml'\n"
     ]
    },
    {
     "data": {
      "text/plain": [
       "'spitdav2'"
      ]
     },
     "execution_count": 2,
     "metadata": {},
     "output_type": "execute_result"
    }
   ],
   "source": [
    "run_bash_command(\"account\")"
   ]
  },
  {
   "cell_type": "code",
   "execution_count": 3,
   "metadata": {},
   "outputs": [
    {
     "name": "stderr",
     "output_type": "stream",
     "text": [
      "2024-09-05 14:54:35,225 - INFO - File /ec/res4/scratch/itas/martini/FE01/006/data.nc not found.\n"
     ]
    },
    {
     "name": "stdout",
     "output_type": "stream",
     "text": [
      "/ec/res4/scratch/itas/ece4/FE01/output/nemo/FE01_oce_*_T_1988-1988.nc\n",
      "/ec/res4/scratch/itas/ece4/FE01/output/nemo/FE01_oce_*_T_1989-1989.nc\n",
      "/ec/res4/scratch/itas/ece4/FE01/output/nemo/FE01_oce_*_T_1990-1990.nc\n",
      "/ec/res4/scratch/itas/ece4/FE01/output/nemo/FE01_oce_*_T_1991-1991.nc\n",
      "/ec/res4/scratch/itas/ece4/FE01/output/nemo/FE01_oce_*_T_1992-1992.nc\n",
      "/ec/res4/scratch/itas/ece4/FE01/output/nemo/FE01_oce_*_T_1993-1993.nc\n",
      "/ec/res4/scratch/itas/ece4/FE01/output/nemo/FE01_oce_*_T_1994-1994.nc\n",
      "/ec/res4/scratch/itas/ece4/FE01/output/nemo/FE01_oce_*_T_1995-1995.nc\n"
     ]
    },
    {
     "name": "stderr",
     "output_type": "stream",
     "text": [
      "2024-09-05 14:54:54,377 - INFO - Command executed: cdo cat /ec/res4/scratch/itas/ece4/FE01/output/nemo/FE01_oce_1m_T_1990-1990.nc /ec/res4/scratch/itas/ece4/FE01/output/nemo/FE01_oce_1m_T_1991-1991.nc /ec/res4/scratch/itas/ece4/FE01/output/nemo/FE01_oce_1m_T_1992-1992.nc /ec/res4/scratch/itas/ece4/FE01/output/nemo/FE01_oce_1m_T_1993-1993.nc /ec/res4/scratch/itas/ece4/FE01/output/nemo/FE01_oce_1m_T_1994-1994.nc /ec/res4/scratch/itas/ece4/FE01/output/nemo/FE01_oce_1m_T_1995-1995.nc /ec/res4/scratch/itas/martini/FE01/006/data.nc\n",
      "2024-09-05 14:54:54,378 - WARNING - Command stderr: /bin/sh: which: line 1: syntax error: unexpected end of file\n",
      "/bin/sh: error importing function definition for `which'\n",
      "/bin/sh: module: line 1: syntax error: unexpected end of file\n",
      "/bin/sh: error importing function definition for `module'\n",
      "/bin/sh: ml: line 1: syntax error: unexpected end of file\n",
      "/bin/sh: error importing function definition for `ml'\n",
      "cdi  warning (cdfScanVarAttr): NetCDF: Variable not found - >nav_lat_grid_T_inner<\n",
      "cdi  warning (cdfScanVarAttr): NetCDF: Variable not found - >nav_lon_grid_T_inner<\n",
      "cdi  warning (find_time_vars): Found more than one time variable, skipped variable time_centered!\n",
      "cdi  warning (cdfInqContents): Coordinates variable time_centered can't be assigned!\n",
      "cdi  warning (cdfScanVarAttr): NetCDF: Variable not found - >nav_lat_grid_T_inner<\n",
      "cdi  warning (cdfScanVarAttr): NetCDF: Variable not found - >nav_lon_grid_T_inner<\n",
      "cdi  warning (find_time_vars): Found more than one time variable, skipped variable time_centered!\n",
      "cdi  warning (cdfInqContents): Coordinates variable time_centered can't be assigned!\n",
      "cdi  warning (cdfScanVarAttr): NetCDF: Variable not found - >nav_lat_grid_T_inner<\n",
      "cdi  warning (cdfScanVarAttr): NetCDF: Variable not found - >nav_lon_grid_T_inner<\n",
      "cdi  warning (find_time_vars): Found more than one time variable, skipped variable time_centered!\n",
      "cdi  warning (cdfInqContents): Coordinates variable time_centered can't be assigned!\n",
      "cdi  warning (cdfScanVarAttr): NetCDF: Variable not found - >nav_lat_grid_T_inner<\n",
      "cdi  warning (cdfScanVarAttr): NetCDF: Variable not found - >nav_lon_grid_T_inner<\n",
      "cdi  warning (find_time_vars): Found more than one time variable, skipped variable time_centered!\n",
      "cdi  warning (cdfInqContents): Coordinates variable time_centered can't be assigned!\n",
      "cdi  warning (cdfScanVarAttr): NetCDF: Variable not found - >nav_lat_grid_T_inner<\n",
      "cdi  warning (cdfScanVarAttr): NetCDF: Variable not found - >nav_lon_grid_T_inner<\n",
      "cdi  warning (find_time_vars): Found more than one time variable, skipped variable time_centered!\n",
      "cdi  warning (cdfInqContents): Coordinates variable time_centered can't be assigned!\n",
      "cdi  warning (cdfScanVarAttr): NetCDF: Variable not found - >nav_lat_grid_T_inner<\n",
      "cdi  warning (cdfScanVarAttr): NetCDF: Variable not found - >nav_lon_grid_T_inner<\n",
      "cdi  warning (find_time_vars): Found more than one time variable, skipped variable time_centered!\n",
      "cdi  warning (cdfInqContents): Coordinates variable time_centered can't be assigned!\n"
     ]
    }
   ],
   "source": [
    "merge(expname='FE01', startyear=1990, endyear=1995)"
   ]
  }
 ],
 "metadata": {
  "kernelspec": {
   "display_name": "Python 3",
   "language": "python",
   "name": "python3"
  },
  "language_info": {
   "codemirror_mode": {
    "name": "ipython",
    "version": 3
   },
   "file_extension": ".py",
   "mimetype": "text/x-python",
   "name": "python",
   "nbconvert_exporter": "python",
   "pygments_lexer": "ipython3",
   "version": "3.11.9"
  }
 },
 "nbformat": 4,
 "nbformat_minor": 2
}
