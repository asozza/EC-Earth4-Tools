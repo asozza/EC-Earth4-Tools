{
 "cells": [
  {
   "cell_type": "code",
   "execution_count": 1,
   "metadata": {},
   "outputs": [],
   "source": [
    "import os\n",
    "import numpy as np\n",
    "import xarray as xr\n",
    "import matplotlib.pyplot as plt"
   ]
  },
  {
   "cell_type": "code",
   "execution_count": null,
   "metadata": {},
   "outputs": [],
   "source": [
    "from osprey.actions.reader import reader_nemo"
   ]
  },
  {
   "cell_type": "code",
   "execution_count": 2,
   "metadata": {},
   "outputs": [
    {
     "name": "stderr",
     "output_type": "stream",
     "text": [
      "2024-08-30 08:10:24,207 - WARNING - Data available only in the range 1990-2000.\n",
      "2024-08-30 08:10:24,207 - INFO - Files to be loaded ['/ec/res4/scratch/itas/ece4/FE01/output/nemo/FE01_oce_1m_T_1990-1990.nc', '/ec/res4/scratch/itas/ece4/FE01/output/nemo/FE01_oce_1m_T_1991-1991.nc', '/ec/res4/scratch/itas/ece4/FE01/output/nemo/FE01_oce_1m_T_1992-1992.nc', '/ec/res4/scratch/itas/ece4/FE01/output/nemo/FE01_oce_1m_T_1993-1993.nc', '/ec/res4/scratch/itas/ece4/FE01/output/nemo/FE01_oce_1m_T_1994-1994.nc', '/ec/res4/scratch/itas/ece4/FE01/output/nemo/FE01_oce_1m_T_1995-1995.nc', '/ec/res4/scratch/itas/ece4/FE01/output/nemo/FE01_oce_1m_T_1996-1996.nc', '/ec/res4/scratch/itas/ece4/FE01/output/nemo/FE01_oce_1m_T_1997-1997.nc', '/ec/res4/scratch/itas/ece4/FE01/output/nemo/FE01_oce_1m_T_1998-1998.nc', '/ec/res4/scratch/itas/ece4/FE01/output/nemo/FE01_oce_1m_T_1999-1999.nc', '/ec/res4/scratch/itas/ece4/FE01/output/nemo/FE01_oce_1m_T_2000-2000.nc']\n"
     ]
    }
   ],
   "source": [
    "data = reader_nemo('FE01', 1990, 2001)"
   ]
  }
 ],
 "metadata": {
  "kernelspec": {
   "display_name": "Python 3",
   "language": "python",
   "name": "python3"
  },
  "language_info": {
   "codemirror_mode": {
    "name": "ipython",
    "version": 3
   },
   "file_extension": ".py",
   "mimetype": "text/x-python",
   "name": "python",
   "nbconvert_exporter": "python",
   "pygments_lexer": "ipython3",
   "version": "3.11.9"
  }
 },
 "nbformat": 4,
 "nbformat_minor": 2
}
