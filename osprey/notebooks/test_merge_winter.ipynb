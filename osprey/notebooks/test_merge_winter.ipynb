{
 "cells": [
  {
   "cell_type": "code",
   "execution_count": 1,
   "metadata": {},
   "outputs": [],
   "source": [
    "from osprey.utils import run_cdo "
   ]
  },
  {
   "cell_type": "code",
   "execution_count": 2,
   "metadata": {},
   "outputs": [
    {
     "name": "stderr",
     "output_type": "stream",
     "text": [
      "2024-10-26 15:29:27,730 - INFO - Data available in the range 2015-2019.\n"
     ]
    }
   ],
   "source": [
    "run_cdo.merge_winter_only('FE05','thetao',2015,2019)"
   ]
  }
 ],
 "metadata": {
  "kernelspec": {
   "display_name": "stece",
   "language": "python",
   "name": "python3"
  },
  "language_info": {
   "codemirror_mode": {
    "name": "ipython",
    "version": 3
   },
   "file_extension": ".py",
   "mimetype": "text/x-python",
   "name": "python",
   "nbconvert_exporter": "python",
   "pygments_lexer": "ipython3",
   "version": "3.11.9"
  }
 },
 "nbformat": 4,
 "nbformat_minor": 2
}
