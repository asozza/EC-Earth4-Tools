{
 "cells": [
  {
   "cell_type": "code",
   "execution_count": 1,
   "metadata": {},
   "outputs": [
    {
     "name": "stderr",
     "output_type": "stream",
     "text": [
      "2024-09-26 13:54:10,508 - INFO - Files to be loaded ['/ec/res4/scratch/itas/ece4/lfr0/output/nemo/lfr0_oce_1m_T_1990-1990.nc', '/ec/res4/scratch/itas/ece4/lfr0/output/nemo/lfr0_oce_1m_T_1991-1991.nc', '/ec/res4/scratch/itas/ece4/lfr0/output/nemo/lfr0_oce_1m_T_1992-1992.nc', '/ec/res4/scratch/itas/ece4/lfr0/output/nemo/lfr0_oce_1m_T_1993-1993.nc', '/ec/res4/scratch/itas/ece4/lfr0/output/nemo/lfr0_oce_1m_T_1994-1994.nc', '/ec/res4/scratch/itas/ece4/lfr0/output/nemo/lfr0_oce_1m_T_1995-1995.nc', '/ec/res4/scratch/itas/ece4/lfr0/output/nemo/lfr0_oce_1m_T_1996-1996.nc', '/ec/res4/scratch/itas/ece4/lfr0/output/nemo/lfr0_oce_1m_T_1997-1997.nc', '/ec/res4/scratch/itas/ece4/lfr0/output/nemo/lfr0_oce_1m_T_1998-1998.nc', '/ec/res4/scratch/itas/ece4/lfr0/output/nemo/lfr0_oce_1m_T_1999-1999.nc', '/ec/res4/scratch/itas/ece4/lfr0/output/nemo/lfr0_oce_1m_T_2000-2000.nc', '/ec/res4/scratch/itas/ece4/lfr0/output/nemo/lfr0_oce_1m_T_2001-2001.nc', '/ec/res4/scratch/itas/ece4/lfr0/output/nemo/lfr0_oce_1m_T_2002-2002.nc', '/ec/res4/scratch/itas/ece4/lfr0/output/nemo/lfr0_oce_1m_T_2003-2003.nc', '/ec/res4/scratch/itas/ece4/lfr0/output/nemo/lfr0_oce_1m_T_2004-2004.nc', '/ec/res4/scratch/itas/ece4/lfr0/output/nemo/lfr0_oce_1m_T_2005-2005.nc', '/ec/res4/scratch/itas/ece4/lfr0/output/nemo/lfr0_oce_1m_T_2006-2006.nc', '/ec/res4/scratch/itas/ece4/lfr0/output/nemo/lfr0_oce_1m_T_2007-2007.nc', '/ec/res4/scratch/itas/ece4/lfr0/output/nemo/lfr0_oce_1m_T_2008-2008.nc', '/ec/res4/scratch/itas/ece4/lfr0/output/nemo/lfr0_oce_1m_T_2009-2009.nc', '/ec/res4/scratch/itas/ece4/lfr0/output/nemo/lfr0_oce_1m_T_2010-2010.nc']\n"
     ]
    }
   ],
   "source": [
    "import numpy as np\n",
    "import xarray as xr\n",
    "from osprey.actions.reader import reader_nemo\n",
    "from osprey.means.means import elements\n",
    "\n",
    "data = reader_nemo(expname='lfr0', startyear=1990, endyear=2010)\n",
    "df = elements('ORCA2')\n",
    "ave = data['thetao'].weighted(df['V']).mean(dim=['z', 'y', 'x'])\n",
    "ave_result= ave.compute()"
   ]
  },
  {
   "cell_type": "markdown",
   "metadata": {},
   "source": [
    "```\n",
    "import numpy as np\n",
    "import xarray as xr\n",
    "import logging\n",
    "from osprey.actions.reader import reader_nemo\n",
    "from osprey.means.means import elements\n",
    "from dask.distributed import LocalCluster, Client, progress\n",
    "from dask.distributed.diagnostics import MemorySampler\n",
    "\n",
    "data = reader_nemo(expname='lfr0', startyear=1990, endyear=2010)\n",
    "\n",
    "cluster = LocalCluster(n_workers=2, threads_per_worker=1, memory_limit='8GB')\n",
    "client = Client(cluster)\n",
    "df = elements('ORCA2')\n",
    "ave = data['thetao'].weighted(df['V']).mean(dim=['z', 'y', 'x'])\n",
    "ms = MemorySampler()\n",
    "with ms.sample('chunk'):\n",
    "    ave_result= ave.compute()\n",
    "array_data = np.array(vars(ms)['samples']['chunk'])\n",
    "avg_mem = np.mean(array_data[:, 1])/1e9\n",
    "max_mem = np.max(array_data[:, 1])/1e9\n",
    "client.shutdown()\n",
    "cluster.close()\n",
    "logging.warning('Avg memory used: %.2f GiB, Peak memory used: %.2f GiB', avg_mem, max_mem)\n",
    "ave_result.plot()\n",
    "```"
   ]
  }
 ],
 "metadata": {
  "kernelspec": {
   "display_name": "Python 3",
   "language": "python",
   "name": "python3"
  },
  "language_info": {
   "codemirror_mode": {
    "name": "ipython",
    "version": 3
   },
   "file_extension": ".py",
   "mimetype": "text/x-python",
   "name": "python",
   "nbconvert_exporter": "python",
   "pygments_lexer": "ipython3",
   "version": "3.11.9"
  }
 },
 "nbformat": 4,
 "nbformat_minor": 2
}
