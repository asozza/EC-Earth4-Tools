{
 "cells": [
  {
   "cell_type": "code",
   "execution_count": 1,
   "metadata": {},
   "outputs": [],
   "source": [
    "#import sys\n",
    "#sys.path.append(\"/ec/res4/hpcperm/itas/src/github/stece\")\n",
    "import sys\n",
    "import os\n",
    "import glob\n",
    "import yaml\n",
    "import numpy as np\n",
    "import xarray as xr\n",
    "import dask\n",
    "import cftime\n",
    "import nc_time_axis\n",
    "import subprocess\n",
    "import matplotlib.pyplot as plt\n",
    "from osprey.utils import time"
   ]
  },
  {
   "cell_type": "code",
   "execution_count": 2,
   "metadata": {},
   "outputs": [
    {
     "data": {
      "text/plain": [
       "12"
      ]
     },
     "execution_count": 2,
     "metadata": {},
     "output_type": "execute_result"
    }
   ],
   "source": [
    "time.get_leg(2000)"
   ]
  },
  {
   "cell_type": "code",
   "execution_count": 3,
   "metadata": {},
   "outputs": [
    {
     "data": {
      "text/plain": [
       "['/ec/res4/hpcperm/itas/src/github/stece',\n",
       " '/etc/ecmwf/nfs/dh2_perm_b/itas/micromamba/envs/stece/lib/python312.zip',\n",
       " '/etc/ecmwf/nfs/dh2_perm_b/itas/micromamba/envs/stece/lib/python3.12',\n",
       " '/etc/ecmwf/nfs/dh2_perm_b/itas/micromamba/envs/stece/lib/python3.12/lib-dynload',\n",
       " '',\n",
       " '/etc/ecmwf/nfs/dh2_perm_b/itas/micromamba/envs/stece/lib/python3.12/site-packages']"
      ]
     },
     "execution_count": 3,
     "metadata": {},
     "output_type": "execute_result"
    }
   ],
   "source": [
    "sys.path"
   ]
  }
 ],
 "metadata": {
  "kernelspec": {
   "display_name": "Python 3",
   "language": "python",
   "name": "python3"
  },
  "language_info": {
   "codemirror_mode": {
    "name": "ipython",
    "version": 3
   },
   "file_extension": ".py",
   "mimetype": "text/x-python",
   "name": "python",
   "nbconvert_exporter": "python",
   "pygments_lexer": "ipython3",
   "version": "3.12.3"
  }
 },
 "nbformat": 4,
 "nbformat_minor": 2
}
