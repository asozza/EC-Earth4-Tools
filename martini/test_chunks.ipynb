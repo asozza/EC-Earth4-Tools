{
 "cells": [
  {
   "cell_type": "code",
   "execution_count": 3,
   "metadata": {},
   "outputs": [],
   "source": [
    "import numpy as np\n",
    "import xarray as xr\n",
    "import os\n",
    "import yaml\n",
    "expname='beta'\n",
    "expdir=os.path.join('/ec/res4/scratch/itas/ece4/', expname, 'output', 'nemo')"
   ]
  },
  {
   "cell_type": "code",
   "execution_count": 9,
   "metadata": {},
   "outputs": [
    {
     "data": {
      "text/plain": [
       "{'start': datetime.datetime(2100, 1, 1, 0, 0), 'num': 111}"
      ]
     },
     "execution_count": 9,
     "metadata": {},
     "output_type": "execute_result"
    }
   ],
   "source": [
    "legfile = os.path.join('/ec/res4/scratch/itas/ece4/', expname, 'leginfo.yml')\n",
    "with open(legfile, 'r', encoding='utf-8') as file:\n",
    "    leginfo = yaml.load(file, Loader=yaml.FullLoader)\n",
    "info = leginfo['base.context']['experiment']['schedule']['leg']\n",
    "info"
   ]
  }
 ],
 "metadata": {
  "kernelspec": {
   "display_name": "Python 3",
   "language": "python",
   "name": "python3"
  },
  "language_info": {
   "codemirror_mode": {
    "name": "ipython",
    "version": 3
   },
   "file_extension": ".py",
   "mimetype": "text/x-python",
   "name": "python",
   "nbconvert_exporter": "python",
   "pygments_lexer": "ipython3",
   "version": "3.11.6"
  }
 },
 "nbformat": 4,
 "nbformat_minor": 2
}
