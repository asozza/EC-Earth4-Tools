{
 "cells": [
  {
   "cell_type": "code",
   "execution_count": 1,
   "metadata": {},
   "outputs": [],
   "source": [
    "import numpy as np\n",
    "import subprocess\n",
    "import os\n",
    "import glob\n",
    "import yaml\n",
    "import xarray as xr\n",
    "import netCDF4\n",
    "import math\n",
    "import matplotlib.pyplot as plt\n",
    "import goat_plots as gp\n",
    "import goat_io as io\n",
    "import goat_tools as gt\n",
    "import goat_means as gm\n",
    "import goat_graphs as gg"
   ]
  },
  {
   "cell_type": "code",
   "execution_count": 6,
   "metadata": {},
   "outputs": [],
   "source": [
    "expname='fix0'\n",
    "dirs = io.folders(expname)\n",
    "df = gm.elements(expname)"
   ]
  },
  {
   "cell_type": "code",
   "execution_count": 3,
   "metadata": {},
   "outputs": [],
   "source": [
    "startyear = 1990\n",
    "endyear = 1991"
   ]
  },
  {
   "cell_type": "code",
   "execution_count": 4,
   "metadata": {},
   "outputs": [],
   "source": [
    "filelist = []\n",
    "for year in range(startyear, endyear):\n",
    "    pattern = os.path.join(dirs['nemo'], f\"{expname}_oce_*_T_{year}-{year}.nc\")\n",
    "    matching_files = glob.glob(pattern)\n",
    "    filelist.extend(matching_files)\n",
    "data = xr.open_mfdataset(filelist, preprocess=io.preproc_nemo_T, use_cftime=True)"
   ]
  }
 ],
 "metadata": {
  "kernelspec": {
   "display_name": "Python 3",
   "language": "python",
   "name": "python3"
  },
  "language_info": {
   "codemirror_mode": {
    "name": "ipython",
    "version": 3
   },
   "file_extension": ".py",
   "mimetype": "text/x-python",
   "name": "python",
   "nbconvert_exporter": "python",
   "pygments_lexer": "ipython3",
   "version": "3.11.6"
  }
 },
 "nbformat": 4,
 "nbformat_minor": 2
}
